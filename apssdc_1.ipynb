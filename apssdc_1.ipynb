{
 "cells": [
  {
   "cell_type": "code",
   "execution_count": 1,
   "metadata": {},
   "outputs": [
    {
     "name": "stdout",
     "output_type": "stream",
     "text": [
      "<class 'int'>\n",
      "5349\n"
     ]
    }
   ],
   "source": [
    "a=0o12345\n",
    "b=12345\n",
    "print(type(a))\n",
    "print(a)"
   ]
  },
  {
   "cell_type": "code",
   "execution_count": 2,
   "metadata": {},
   "outputs": [
    {
     "name": "stdout",
     "output_type": "stream",
     "text": [
      "['False', 'None', 'True', 'and', 'as', 'assert', 'async', 'await', 'break', 'class', 'continue', 'def', 'del', 'elif', 'else', 'except', 'finally', 'for', 'from', 'global', 'if', 'import', 'in', 'is', 'lambda', 'nonlocal', 'not', 'or', 'pass', 'raise', 'return', 'try', 'while', 'with', 'yield']\n"
     ]
    }
   ],
   "source": [
    "import keyword\n",
    "k=keyword.kwlist\n",
    "print(k)"
   ]
  },
  {
   "cell_type": "markdown",
   "metadata": {},
   "source": [
    "markdown notes   "
   ]
  },
  {
   "cell_type": "markdown",
   "metadata": {},
   "source": [
    "bueqfiovjnpn; "
   ]
  },
  {
   "cell_type": "markdown",
   "metadata": {},
   "source": [
    "# heading"
   ]
  },
  {
   "cell_type": "markdown",
   "metadata": {},
   "source": [
    "## small2"
   ]
  },
  {
   "cell_type": "markdown",
   "metadata": {},
   "source": [
    "### samll3\n",
    "#### small4\n",
    "###### oihoihioh[5\n",
    "#  OPKBPKPK"
   ]
  },
  {
   "cell_type": "markdown",
   "metadata": {},
   "source": [
    "bueqfiovjnpn; "
   ]
  },
  {
   "cell_type": "markdown",
   "metadata": {},
   "source": [
    "*HOIHWVInodqhw* *represents itliac* <br>\n",
    "**represents BOLD text style** <br>\n",
    "nkvsnpo ***bold ittalic text***"
   ]
  },
  {
   "cell_type": "markdown",
   "metadata": {},
   "source": [
    "<img src=\"a.png\">screenshot<img>\n",
    "***data analysis***  *workshop* **by apssdc**"
   ]
  },
  {
   "cell_type": "markdown",
   "metadata": {},
   "source": [
    "# Errors in python\n",
    " invalid  statement\n",
    " 3 types of ERRORS\n",
    " ## 1) syntax error\n",
    "  error related to syntax\n",
    " ## 2) value error\n",
    "   error related to values,filenot found,file type\n",
    " ## 3) intendation error\n",
    "   error related to spaces"
   ]
  },
  {
   "cell_type": "markdown",
   "metadata": {},
   "source": [
    "<img src=\"a.png\">"
   ]
  },
  {
   "cell_type": "markdown",
   "metadata": {},
   "source": [
    "<img src=\"a.png\">screenshot"
   ]
  },
  {
   "cell_type": "markdown",
   "metadata": {},
   "source": [
    "<img src=\"123.jpg\">vurke pettalee<br> baagundi kadaa image<img>"
   ]
  },
  {
   "cell_type": "markdown",
   "metadata": {},
   "source": [
    "### Operations in python\n",
    "anything that performs the op'n btwn 2 operands\n"
   ]
  },
  {
   "cell_type": "markdown",
   "metadata": {},
   "source": [
    "<img src =\"abc.jpg\">emaindii"
   ]
  },
  {
   "cell_type": "code",
   "execution_count": 3,
   "metadata": {},
   "outputs": [
    {
     "name": "stdout",
     "output_type": "stream",
     "text": [
      "45\n",
      "45 x 1 = 45\n",
      "45 x 2 = 90\n",
      "45 x 3 = 135\n",
      "45 x 4 = 180\n",
      "45 x 5 = 225\n",
      "45 x 6 = 270\n",
      "45 x 7 = 315\n",
      "45 x 8 = 360\n",
      "45 x 9 = 405\n",
      "45 x 10 = 450\n"
     ]
    }
   ],
   "source": [
    "# print nth multiplication table\n",
    "n=int(input())\n",
    "for i in range(1,11):\n",
    "    print(n,\"x\",i,\"=\",n*i)"
   ]
  },
  {
   "cell_type": "code",
   "execution_count": 4,
   "metadata": {},
   "outputs": [
    {
     "name": "stdout",
     "output_type": "stream",
     "text": [
      "786\n",
      "sum= 21\n"
     ]
    }
   ],
   "source": [
    "# find the sum of digits in a num\n",
    "num=input()\n",
    "s=0\n",
    "for dig in num:\n",
    "    s=s+int(dig)\n",
    "print(\"sum=\",s)"
   ]
  },
  {
   "cell_type": "code",
   "execution_count": 9,
   "metadata": {},
   "outputs": [
    {
     "name": "stdout",
     "output_type": "stream",
     "text": [
      "r v r j c c e "
     ]
    }
   ],
   "source": [
    "# illetration in strings\n",
    "clg=\"rvrjcce\"\n",
    "for ch in clg:\n",
    "    print(ch,end=\" \")"
   ]
  },
  {
   "cell_type": "code",
   "execution_count": 8,
   "metadata": {},
   "outputs": [],
   "source": [
    "test_list= [12,47,348]\n",
    "\n",
    "res=[]\n",
    "for ele in test_list:\n",
    "    sum=0\n",
    "    for digit in str(ele):\n",
    "        sum+=int(digit)\n",
    "    res.append"
   ]
  },
  {
   "cell_type": "code",
   "execution_count": 3,
   "metadata": {},
   "outputs": [
    {
     "name": "stdout",
     "output_type": "stream",
     "text": [
      "The original list is : [12, 67, 98, 34]\n",
      "List Integer Summation : [3, 13, 17, 7]\n"
     ]
    }
   ],
   "source": [
    "# Python3 code to demonstrate\n",
    "# Sum of number digits in List\n",
    "# using loop + str()\n",
    "\n",
    "# Initializing list\n",
    "test_list = [12, 67, 98, 34]\n",
    "\n",
    "# printing original list\n",
    "print(\"The original list is : \" + str(test_list))\n",
    "\n",
    "# Sum of number digits in List\n",
    "# using loop + str()\n",
    "res = []\n",
    "for ele in test_list:\n",
    "\tsum = 0\n",
    "\tfor digit in str(ele):\n",
    "\t\tsum += int(digit)\n",
    "\tres.append(sum)\n",
    "\t\n",
    "# printing result\n",
    "print (\"List Integer Summation : \" + str(res))\n"
   ]
  },
  {
   "cell_type": "code",
   "execution_count": 6,
   "metadata": {},
   "outputs": [
    {
     "name": "stdout",
     "output_type": "stream",
     "text": [
      "10\n",
      "3628800\n"
     ]
    }
   ],
   "source": [
    "# factorial of a num\n",
    "n=int(input())\n",
    "f=1\n",
    "for i in range(1,n+1):\n",
    "       f=f*i\n",
    "print(f)"
   ]
  },
  {
   "cell_type": "code",
   "execution_count": null,
   "metadata": {},
   "outputs": [],
   "source": [
    "def is_prime(x):\n",
    "    count=0\n",
    "    for num in range(1,x//2+1):\n",
    "        if x%num==0:\n",
    "            count+=1\n",
    "        if count is 1:\n",
    "            print (x)\n",
    "        else :\n",
    "            return 0\n",
    "        \n",
    "p,q=int(input()),int(input())\n",
    "for i in range (p,q+1):\n",
    "    is_prime(p)\n"
   ]
  },
  {
   "cell_type": "code",
   "execution_count": null,
   "metadata": {},
   "outputs": [],
   "source": [
    "li={1,4,6,8,j,k}\n",
    "print(l[-1])"
   ]
  },
  {
   "cell_type": "code",
   "execution_count": null,
   "metadata": {},
   "outputs": [],
   "source": [
    "li.pop(3)"
   ]
  },
  {
   "cell_type": "code",
   "execution_count": null,
   "metadata": {},
   "outputs": [],
   "source": [
    "                           jjpigkogibjoieprint()\n",
    "    kn\n",
    "    fhln{]nb89nm{\n",
    "        njvhiofor  i in i ld;m() \n",
    "        jsrange(0\n",
    "               bej)\n",
    "    }}\n",
    "\n",
    "      nb\n",
    "        jprg\n",
    "        jbnhbbpgn,"
   ]
  }
 ],
 "metadata": {
  "kernelspec": {
   "display_name": "Python 3",
   "language": "python",
   "name": "python3"
  },
  "language_info": {
   "codemirror_mode": {
    "name": "ipython",
    "version": 3
   },
   "file_extension": ".py",
   "mimetype": "text/x-python",
   "name": "python",
   "nbconvert_exporter": "python",
   "pygments_lexer": "ipython3",
   "version": "3.7.1"
  }
 },
 "nbformat": 4,
 "nbformat_minor": 2
}
